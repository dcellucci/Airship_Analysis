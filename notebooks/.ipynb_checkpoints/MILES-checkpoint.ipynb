{
 "cells": [
  {
   "cell_type": "code",
   "execution_count": 3,
   "metadata": {},
   "outputs": [
    {
     "name": "stderr",
     "output_type": "stream",
     "text": [
      "/Users/dcellucci/anaconda/lib/python2.7/site-packages/matplotlib/font_manager.py:273: UserWarning: Matplotlib is building the font cache using fc-list. This may take a moment.\n",
      "  warnings.warn('Matplotlib is building the font cache using fc-list. This may take a moment.')\n"
     ]
    },
    {
     "name": "stdout",
     "output_type": "stream",
     "text": [
      "Populating the interactive namespace from numpy and matplotlib\n"
     ]
    },
    {
     "name": "stderr",
     "output_type": "stream",
     "text": [
      "/Users/dcellucci/anaconda/lib/python2.7/site-packages/IPython/core/magics/pylab.py:161: UserWarning: pylab import has clobbered these variables: ['beta']\n",
      "`%matplotlib` prevents importing * from pylab and numpy\n",
      "  \"\\n`%matplotlib` prevents importing * from pylab and numpy\"\n"
     ]
    }
   ],
   "source": [
    "%pylab inline"
   ]
  },
  {
   "cell_type": "markdown",
   "metadata": {},
   "source": [
    "# MILES\n",
    "\n",
    "Heirarchichal Cellular Solids for Extremely Large Rigid Airships\n",
    "\n",
    "$$\n",
    "M_{max} = 0.029\\left[1+(L/D-4)(0.5624L^{0.02}-0.5)\\right]\\rho\\mu V_{\\infty} Vol\\ L^{0.25}\n",
    "$$"
   ]
  },
  {
   "cell_type": "markdown",
   "metadata": {},
   "source": [
    "Given an airship aspect ratio $\\alpha = D/L$ and a $V_{\\infty} = \\beta L$ (such that it depends on the length)\n",
    "\n",
    "$$\n",
    "M_{max} \\approx 0.029 \\rho \\mu \\beta \\left[1+(1/\\alpha-4)(0.5624L^{0.02}-0.5)\\right]\\alpha^2 L^{4.25} \n",
    "$$"
   ]
  },
  {
   "cell_type": "markdown",
   "metadata": {},
   "source": [
    "Maximum stress due to this applied moment is\n",
    "\n",
    "c Mz /Iz\n",
    "$$\n",
    "0.174 \\rho \\mu \\beta \\left[1+(1/\\alpha-4)(0.5624L^{0.02}-0.5)\\right]\\frac{ L^{1.25}}{\\alpha}\n",
    "$$\n"
   ]
  },
  {
   "cell_type": "code",
   "execution_count": 15,
   "metadata": {
    "collapsed": true
   },
   "outputs": [],
   "source": [
    "rho_air = 1.225 #kg/m^3\n",
    "mu = 5 #m/s, gust speed\n",
    "beta = 0.01 #m/s, fraction of airship length travelled, per sec\n",
    "\n",
    "def max_moment(alpha, L):\n",
    "    return 0.029*rho_air*mu*beta*(1+(1.0/alpha-4)*(0.5624*L**0.02-0.5))*alpha*alpha*L**4.25\n",
    "\n",
    "def max_pressure(alpha, L):\n",
    "    return 0.174*rho_air*mu*beta*(1+(1.0/alpha-4)*(0.5624*L**0.02-0.5))*L**1.25/alpha"
   ]
  },
  {
   "cell_type": "code",
   "execution_count": 26,
   "metadata": {},
   "outputs": [],
   "source": [
    "Ls = [10**a for a in arange(0.1,4,0.1)]\n",
    "mms = [max_moment(0.1,L) for L in Ls]\n",
    "mps = [max_pressure(0.1,L) for L in Ls]"
   ]
  },
  {
   "cell_type": "code",
   "execution_count": 29,
   "metadata": {},
   "outputs": [
    {
     "data": {
      "text/plain": [
       "[<matplotlib.lines.Line2D at 0x11204c610>]"
      ]
     },
     "execution_count": 29,
     "metadata": {},
     "output_type": "execute_result"
    },
    {
     "data": {
      "image/png": "[encoded data removed]",
      "text/plain": [
       "<matplotlib.figure.Figure at 0x11119fe90>"
      ]
     },
     "metadata": {},
     "output_type": "display_data"
    }
   ],
   "source": [
    "xscale(\"log\")\n",
    "yscale(\"log\")\n",
    "plot(Ls,mps)"
   ]
  },
  {
   "cell_type": "code",
   "execution_count": 38,
   "metadata": {},
   "outputs": [
    {
     "data": {
      "text/plain": [
       "19.606870126457942"
      ]
     },
     "execution_count": 38,
     "metadata": {},
     "output_type": "execute_result"
    }
   ],
   "source": [
    "mps[29]/mps[19]"
   ]
  },
  {
   "cell_type": "code",
   "execution_count": 40,
   "metadata": {},
   "outputs": [
    {
     "data": {
      "text/plain": [
       "17.78279410038923"
      ]
     },
     "execution_count": 40,
     "metadata": {},
     "output_type": "execute_result"
    }
   ],
   "source": [
    "10**1.25"
   ]
  },
  {
   "cell_type": "code",
   "execution_count": null,
   "metadata": {
    "collapsed": true
   },
   "outputs": [],
   "source": []
  }
 ],
 "metadata": {
  "anaconda-cloud": {},
  "kernelspec": {
   "display_name": "Python 2",
   "language": "python",
   "name": "python2"
  }
 },
 "nbformat": 4,
 "nbformat_minor": 2
}
